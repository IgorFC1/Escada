{
  "nbformat": 4,
  "nbformat_minor": 0,
  "metadata": {
    "colab": {
      "name": "Sorvete",
      "provenance": [],
      "collapsed_sections": [],
      "authorship_tag": "ABX9TyPRu62LFtnBZ52+cCw5NXg8",
      "include_colab_link": true
    },
    "kernelspec": {
      "name": "python3",
      "display_name": "Python 3"
    }
  },
  "cells": [
    {
      "cell_type": "markdown",
      "metadata": {
        "id": "view-in-github",
        "colab_type": "text"
      },
      "source": [
        "<a href=\"https://colab.research.google.com/github/IgorFC1/Escada/blob/master/Sorvete.ipynb\" target=\"_parent\"><img src=\"https://colab.research.google.com/assets/colab-badge.svg\" alt=\"Open In Colab\"/></a>"
      ]
    },
    {
      "cell_type": "code",
      "metadata": {
        "id": "HWDkYyehaRNt"
      },
      "source": [
        "       DADOS\n",
        "\n",
        "Input (X): Temperatura\n",
        "Output (Y): Lucro (revenue)"
      ],
      "execution_count": null,
      "outputs": []
    },
    {
      "cell_type": "code",
      "metadata": {
        "id": "BYW3-fW7GSId",
        "outputId": "cd9d2c4b-02d9-41a9-9ea7-9c22005b8b02",
        "colab": {
          "base_uri": "https://localhost:8080/",
          "height": 35
        }
      },
      "source": [
        "%tensorflow_version 2.x\n",
        "import tensorflow as tf\n",
        "import pandas as pd\n",
        "import numpy as np\n",
        "import seaborn as sns\n",
        "import matplotlib.pyplot as plt\n",
        "tf.__version__"
      ],
      "execution_count": null,
      "outputs": [
        {
          "output_type": "execute_result",
          "data": {
            "application/vnd.google.colaboratory.intrinsic+json": {
              "type": "string"
            },
            "text/plain": [
              "'2.3.0'"
            ]
          },
          "metadata": {
            "tags": []
          },
          "execution_count": 1
        }
      ]
    },
    {
      "cell_type": "code",
      "metadata": {
        "id": "_oA2u8SpMkNq"
      },
      "source": [
        "sales_df = pd.read_csv('SalesData.csv')"
      ],
      "execution_count": null,
      "outputs": []
    },
    {
      "cell_type": "code",
      "metadata": {
        "id": "mcS7a7-3M1JD",
        "outputId": "2c24092c-c9d8-4df6-b790-35a352e173e7",
        "colab": {
          "base_uri": "https://localhost:8080/",
          "height": 419
        }
      },
      "source": [
        "sales_df"
      ],
      "execution_count": null,
      "outputs": [
        {
          "output_type": "execute_result",
          "data": {
            "text/html": [
              "<div>\n",
              "<style scoped>\n",
              "    .dataframe tbody tr th:only-of-type {\n",
              "        vertical-align: middle;\n",
              "    }\n",
              "\n",
              "    .dataframe tbody tr th {\n",
              "        vertical-align: top;\n",
              "    }\n",
              "\n",
              "    .dataframe thead th {\n",
              "        text-align: right;\n",
              "    }\n",
              "</style>\n",
              "<table border=\"1\" class=\"dataframe\">\n",
              "  <thead>\n",
              "    <tr style=\"text-align: right;\">\n",
              "      <th></th>\n",
              "      <th>Temperature</th>\n",
              "      <th>Revenue</th>\n",
              "    </tr>\n",
              "  </thead>\n",
              "  <tbody>\n",
              "    <tr>\n",
              "      <th>0</th>\n",
              "      <td>24.566884</td>\n",
              "      <td>534.799028</td>\n",
              "    </tr>\n",
              "    <tr>\n",
              "      <th>1</th>\n",
              "      <td>26.005191</td>\n",
              "      <td>625.190122</td>\n",
              "    </tr>\n",
              "    <tr>\n",
              "      <th>2</th>\n",
              "      <td>27.790554</td>\n",
              "      <td>660.632289</td>\n",
              "    </tr>\n",
              "    <tr>\n",
              "      <th>3</th>\n",
              "      <td>20.595335</td>\n",
              "      <td>487.706960</td>\n",
              "    </tr>\n",
              "    <tr>\n",
              "      <th>4</th>\n",
              "      <td>11.503498</td>\n",
              "      <td>316.240194</td>\n",
              "    </tr>\n",
              "    <tr>\n",
              "      <th>...</th>\n",
              "      <td>...</td>\n",
              "      <td>...</td>\n",
              "    </tr>\n",
              "    <tr>\n",
              "      <th>495</th>\n",
              "      <td>22.274899</td>\n",
              "      <td>524.746364</td>\n",
              "    </tr>\n",
              "    <tr>\n",
              "      <th>496</th>\n",
              "      <td>32.893092</td>\n",
              "      <td>755.818399</td>\n",
              "    </tr>\n",
              "    <tr>\n",
              "      <th>497</th>\n",
              "      <td>12.588157</td>\n",
              "      <td>306.090719</td>\n",
              "    </tr>\n",
              "    <tr>\n",
              "      <th>498</th>\n",
              "      <td>22.362402</td>\n",
              "      <td>566.217304</td>\n",
              "    </tr>\n",
              "    <tr>\n",
              "      <th>499</th>\n",
              "      <td>28.957736</td>\n",
              "      <td>655.660388</td>\n",
              "    </tr>\n",
              "  </tbody>\n",
              "</table>\n",
              "<p>500 rows × 2 columns</p>\n",
              "</div>"
            ],
            "text/plain": [
              "     Temperature     Revenue\n",
              "0      24.566884  534.799028\n",
              "1      26.005191  625.190122\n",
              "2      27.790554  660.632289\n",
              "3      20.595335  487.706960\n",
              "4      11.503498  316.240194\n",
              "..           ...         ...\n",
              "495    22.274899  524.746364\n",
              "496    32.893092  755.818399\n",
              "497    12.588157  306.090719\n",
              "498    22.362402  566.217304\n",
              "499    28.957736  655.660388\n",
              "\n",
              "[500 rows x 2 columns]"
            ]
          },
          "metadata": {
            "tags": []
          },
          "execution_count": 4
        }
      ]
    },
    {
      "cell_type": "code",
      "metadata": {
        "id": "37drAAdwM8m7",
        "outputId": "e6ce9dbc-9e55-4b66-fa90-a0e3159cca81",
        "colab": {
          "base_uri": "https://localhost:8080/",
          "height": 204
        }
      },
      "source": [
        "sales_df.head(5)"
      ],
      "execution_count": null,
      "outputs": [
        {
          "output_type": "execute_result",
          "data": {
            "text/html": [
              "<div>\n",
              "<style scoped>\n",
              "    .dataframe tbody tr th:only-of-type {\n",
              "        vertical-align: middle;\n",
              "    }\n",
              "\n",
              "    .dataframe tbody tr th {\n",
              "        vertical-align: top;\n",
              "    }\n",
              "\n",
              "    .dataframe thead th {\n",
              "        text-align: right;\n",
              "    }\n",
              "</style>\n",
              "<table border=\"1\" class=\"dataframe\">\n",
              "  <thead>\n",
              "    <tr style=\"text-align: right;\">\n",
              "      <th></th>\n",
              "      <th>Temperature</th>\n",
              "      <th>Revenue</th>\n",
              "    </tr>\n",
              "  </thead>\n",
              "  <tbody>\n",
              "    <tr>\n",
              "      <th>0</th>\n",
              "      <td>24.566884</td>\n",
              "      <td>534.799028</td>\n",
              "    </tr>\n",
              "    <tr>\n",
              "      <th>1</th>\n",
              "      <td>26.005191</td>\n",
              "      <td>625.190122</td>\n",
              "    </tr>\n",
              "    <tr>\n",
              "      <th>2</th>\n",
              "      <td>27.790554</td>\n",
              "      <td>660.632289</td>\n",
              "    </tr>\n",
              "    <tr>\n",
              "      <th>3</th>\n",
              "      <td>20.595335</td>\n",
              "      <td>487.706960</td>\n",
              "    </tr>\n",
              "    <tr>\n",
              "      <th>4</th>\n",
              "      <td>11.503498</td>\n",
              "      <td>316.240194</td>\n",
              "    </tr>\n",
              "  </tbody>\n",
              "</table>\n",
              "</div>"
            ],
            "text/plain": [
              "   Temperature     Revenue\n",
              "0    24.566884  534.799028\n",
              "1    26.005191  625.190122\n",
              "2    27.790554  660.632289\n",
              "3    20.595335  487.706960\n",
              "4    11.503498  316.240194"
            ]
          },
          "metadata": {
            "tags": []
          },
          "execution_count": 5
        }
      ]
    },
    {
      "cell_type": "code",
      "metadata": {
        "id": "A4XLZtcMNCzH",
        "outputId": "d169f332-d0b4-4a57-e70b-295aaaeb9476",
        "colab": {
          "base_uri": "https://localhost:8080/",
          "height": 359
        }
      },
      "source": [
        "sales_df.tail(10)"
      ],
      "execution_count": null,
      "outputs": [
        {
          "output_type": "execute_result",
          "data": {
            "text/html": [
              "<div>\n",
              "<style scoped>\n",
              "    .dataframe tbody tr th:only-of-type {\n",
              "        vertical-align: middle;\n",
              "    }\n",
              "\n",
              "    .dataframe tbody tr th {\n",
              "        vertical-align: top;\n",
              "    }\n",
              "\n",
              "    .dataframe thead th {\n",
              "        text-align: right;\n",
              "    }\n",
              "</style>\n",
              "<table border=\"1\" class=\"dataframe\">\n",
              "  <thead>\n",
              "    <tr style=\"text-align: right;\">\n",
              "      <th></th>\n",
              "      <th>Temperature</th>\n",
              "      <th>Revenue</th>\n",
              "    </tr>\n",
              "  </thead>\n",
              "  <tbody>\n",
              "    <tr>\n",
              "      <th>490</th>\n",
              "      <td>23.824922</td>\n",
              "      <td>584.399945</td>\n",
              "    </tr>\n",
              "    <tr>\n",
              "      <th>491</th>\n",
              "      <td>34.472169</td>\n",
              "      <td>809.352520</td>\n",
              "    </tr>\n",
              "    <tr>\n",
              "      <th>492</th>\n",
              "      <td>23.056214</td>\n",
              "      <td>552.819351</td>\n",
              "    </tr>\n",
              "    <tr>\n",
              "      <th>493</th>\n",
              "      <td>14.931506</td>\n",
              "      <td>377.430928</td>\n",
              "    </tr>\n",
              "    <tr>\n",
              "      <th>494</th>\n",
              "      <td>25.112066</td>\n",
              "      <td>571.434257</td>\n",
              "    </tr>\n",
              "    <tr>\n",
              "      <th>495</th>\n",
              "      <td>22.274899</td>\n",
              "      <td>524.746364</td>\n",
              "    </tr>\n",
              "    <tr>\n",
              "      <th>496</th>\n",
              "      <td>32.893092</td>\n",
              "      <td>755.818399</td>\n",
              "    </tr>\n",
              "    <tr>\n",
              "      <th>497</th>\n",
              "      <td>12.588157</td>\n",
              "      <td>306.090719</td>\n",
              "    </tr>\n",
              "    <tr>\n",
              "      <th>498</th>\n",
              "      <td>22.362402</td>\n",
              "      <td>566.217304</td>\n",
              "    </tr>\n",
              "    <tr>\n",
              "      <th>499</th>\n",
              "      <td>28.957736</td>\n",
              "      <td>655.660388</td>\n",
              "    </tr>\n",
              "  </tbody>\n",
              "</table>\n",
              "</div>"
            ],
            "text/plain": [
              "     Temperature     Revenue\n",
              "490    23.824922  584.399945\n",
              "491    34.472169  809.352520\n",
              "492    23.056214  552.819351\n",
              "493    14.931506  377.430928\n",
              "494    25.112066  571.434257\n",
              "495    22.274899  524.746364\n",
              "496    32.893092  755.818399\n",
              "497    12.588157  306.090719\n",
              "498    22.362402  566.217304\n",
              "499    28.957736  655.660388"
            ]
          },
          "metadata": {
            "tags": []
          },
          "execution_count": 6
        }
      ]
    },
    {
      "cell_type": "code",
      "metadata": {
        "id": "ZuFYb1EZNUJq",
        "outputId": "12bb19c3-7e4d-49c2-95c4-7e8e655e2520",
        "colab": {
          "base_uri": "https://localhost:8080/",
          "height": 170
        }
      },
      "source": [
        "sales_df.info()"
      ],
      "execution_count": null,
      "outputs": [
        {
          "output_type": "stream",
          "text": [
            "<class 'pandas.core.frame.DataFrame'>\n",
            "RangeIndex: 500 entries, 0 to 499\n",
            "Data columns (total 2 columns):\n",
            " #   Column       Non-Null Count  Dtype  \n",
            "---  ------       --------------  -----  \n",
            " 0   Temperature  500 non-null    float64\n",
            " 1   Revenue      500 non-null    float64\n",
            "dtypes: float64(2)\n",
            "memory usage: 7.9 KB\n"
          ],
          "name": "stdout"
        }
      ]
    },
    {
      "cell_type": "code",
      "metadata": {
        "id": "yNVKpOm-Nhju",
        "outputId": "e909b88d-0a4d-45cb-cae6-2e185d9c4c39",
        "colab": {
          "base_uri": "https://localhost:8080/",
          "height": 297
        }
      },
      "source": [
        "sales_df.describe()"
      ],
      "execution_count": null,
      "outputs": [
        {
          "output_type": "execute_result",
          "data": {
            "text/html": [
              "<div>\n",
              "<style scoped>\n",
              "    .dataframe tbody tr th:only-of-type {\n",
              "        vertical-align: middle;\n",
              "    }\n",
              "\n",
              "    .dataframe tbody tr th {\n",
              "        vertical-align: top;\n",
              "    }\n",
              "\n",
              "    .dataframe thead th {\n",
              "        text-align: right;\n",
              "    }\n",
              "</style>\n",
              "<table border=\"1\" class=\"dataframe\">\n",
              "  <thead>\n",
              "    <tr style=\"text-align: right;\">\n",
              "      <th></th>\n",
              "      <th>Temperature</th>\n",
              "      <th>Revenue</th>\n",
              "    </tr>\n",
              "  </thead>\n",
              "  <tbody>\n",
              "    <tr>\n",
              "      <th>count</th>\n",
              "      <td>500.000000</td>\n",
              "      <td>500.000000</td>\n",
              "    </tr>\n",
              "    <tr>\n",
              "      <th>mean</th>\n",
              "      <td>22.232225</td>\n",
              "      <td>521.570777</td>\n",
              "    </tr>\n",
              "    <tr>\n",
              "      <th>std</th>\n",
              "      <td>8.096388</td>\n",
              "      <td>175.404751</td>\n",
              "    </tr>\n",
              "    <tr>\n",
              "      <th>min</th>\n",
              "      <td>0.000000</td>\n",
              "      <td>10.000000</td>\n",
              "    </tr>\n",
              "    <tr>\n",
              "      <th>25%</th>\n",
              "      <td>17.122258</td>\n",
              "      <td>405.558681</td>\n",
              "    </tr>\n",
              "    <tr>\n",
              "      <th>50%</th>\n",
              "      <td>22.392791</td>\n",
              "      <td>529.368565</td>\n",
              "    </tr>\n",
              "    <tr>\n",
              "      <th>75%</th>\n",
              "      <td>27.740674</td>\n",
              "      <td>642.257922</td>\n",
              "    </tr>\n",
              "    <tr>\n",
              "      <th>max</th>\n",
              "      <td>45.000000</td>\n",
              "      <td>1000.000000</td>\n",
              "    </tr>\n",
              "  </tbody>\n",
              "</table>\n",
              "</div>"
            ],
            "text/plain": [
              "       Temperature      Revenue\n",
              "count   500.000000   500.000000\n",
              "mean     22.232225   521.570777\n",
              "std       8.096388   175.404751\n",
              "min       0.000000    10.000000\n",
              "25%      17.122258   405.558681\n",
              "50%      22.392791   529.368565\n",
              "75%      27.740674   642.257922\n",
              "max      45.000000  1000.000000"
            ]
          },
          "metadata": {
            "tags": []
          },
          "execution_count": 8
        }
      ]
    },
    {
      "cell_type": "code",
      "metadata": {
        "id": "gslIoCkAOQDQ",
        "outputId": "39721612-e43f-4bfa-9c7d-cc5f61becc48",
        "colab": {
          "base_uri": "https://localhost:8080/",
          "height": 333
        }
      },
      "source": [
        "sns.scatterplot(sales_df['Temperature'], sales_df['Revenue']);"
      ],
      "execution_count": null,
      "outputs": [
        {
          "output_type": "stream",
          "text": [
            "/usr/local/lib/python3.6/dist-packages/seaborn/_decorators.py:43: FutureWarning: Pass the following variables as keyword args: x, y. From version 0.12, the only valid positional argument will be `data`, and passing other arguments without an explicit keyword will result in an error or misinterpretation.\n",
            "  FutureWarning\n"
          ],
          "name": "stderr"
        },
        {
          "output_type": "display_data",
          "data": {
            "image/png": "[encoded data removed]",
            "text/plain": [
              "<Figure size 432x288 with 1 Axes>"
            ]
          },
          "metadata": {
            "tags": [],
            "needs_background": "light"
          }
        }
      ]
    },
    {
      "cell_type": "code",
      "metadata": {
        "id": "KjIu2wsOP7o5"
      },
      "source": [
        "x_train = sales_df['Temperature']\n",
        "y_train = sales_df['Revenue']"
      ],
      "execution_count": null,
      "outputs": []
    },
    {
      "cell_type": "code",
      "metadata": {
        "id": "LFN_kX_eQrdN",
        "outputId": "71b8af4a-ac24-49db-ad4a-0d4c9af9d547",
        "colab": {
          "base_uri": "https://localhost:8080/",
          "height": 34
        }
      },
      "source": [
        "x_train.shape"
      ],
      "execution_count": null,
      "outputs": [
        {
          "output_type": "execute_result",
          "data": {
            "text/plain": [
              "(500,)"
            ]
          },
          "metadata": {
            "tags": []
          },
          "execution_count": 21
        }
      ]
    },
    {
      "cell_type": "code",
      "metadata": {
        "id": "SQbC6gPEQ7St",
        "outputId": "3b98ce11-0594-4864-e237-526bc2a7686f",
        "colab": {
          "base_uri": "https://localhost:8080/",
          "height": 34
        }
      },
      "source": [
        "y_train.shape"
      ],
      "execution_count": null,
      "outputs": [
        {
          "output_type": "execute_result",
          "data": {
            "text/plain": [
              "(500,)"
            ]
          },
          "metadata": {
            "tags": []
          },
          "execution_count": 22
        }
      ]
    },
    {
      "cell_type": "code",
      "metadata": {
        "id": "x6XZyxUWQ_TR"
      },
      "source": [
        "model = tf.keras.Sequential()\n",
        "model.add(tf.keras.layers.Dense(units= 10, input_shape = [1]))\n",
        "model.add(tf.keras.layers.Dense(units= 1))"
      ],
      "execution_count": null,
      "outputs": []
    },
    {
      "cell_type": "code",
      "metadata": {
        "id": "n1CBBSZxR7r9",
        "outputId": "92dae47e-367d-42e2-af77-ccfe7dee06f5",
        "colab": {
          "base_uri": "https://localhost:8080/",
          "height": 221
        }
      },
      "source": [
        "model.summary(2)"
      ],
      "execution_count": null,
      "outputs": [
        {
          "output_type": "stream",
          "text": [
            "Model: \"sequential_7\"\n",
            "__\n",
            " P\n",
            "==\n",
            " 2\n",
            "__\n",
            " 1\n",
            "==\n",
            "Total params: 31\n",
            "Trainable params: 31\n",
            "Non-trainable params: 0\n",
            "__\n"
          ],
          "name": "stdout"
        }
      ]
    },
    {
      "cell_type": "code",
      "metadata": {
        "id": "VTOecHrOSgYc"
      },
      "source": [
        "model.compile(optimizer=tf.keras.optimizers.Adam(0.1), loss = 'mean_squared_error')"
      ],
      "execution_count": null,
      "outputs": []
    },
    {
      "cell_type": "code",
      "metadata": {
        "id": "G82V0T9MTE3p",
        "outputId": "177f57b3-f9b5-46a6-e0d4-f75983cbb242",
        "colab": {
          "base_uri": "https://localhost:8080/",
          "height": 1000
        }
      },
      "source": [
        "epochs_hist = model.fit(x_train, y_train, epochs = 100)"
      ],
      "execution_count": null,
      "outputs": [
        {
          "output_type": "stream",
          "text": [
            "Epoch 1/100\n",
            "16/16 [==============================] - 0s 971us/step - loss: 145788.7031\n",
            "Epoch 2/100\n",
            "16/16 [==============================] - 0s 876us/step - loss: 14879.5879\n",
            "Epoch 3/100\n",
            "16/16 [==============================] - 0s 945us/step - loss: 3771.4705\n",
            "Epoch 4/100\n",
            "16/16 [==============================] - 0s 945us/step - loss: 1524.5959\n",
            "Epoch 5/100\n",
            "16/16 [==============================] - 0s 1ms/step - loss: 770.7626\n",
            "Epoch 6/100\n",
            "16/16 [==============================] - 0s 983us/step - loss: 706.1962\n",
            "Epoch 7/100\n",
            "16/16 [==============================] - 0s 959us/step - loss: 689.4012\n",
            "Epoch 8/100\n",
            "16/16 [==============================] - 0s 933us/step - loss: 683.9461\n",
            "Epoch 9/100\n",
            "16/16 [==============================] - 0s 1ms/step - loss: 679.3552\n",
            "Epoch 10/100\n",
            "16/16 [==============================] - 0s 1ms/step - loss: 673.7400\n",
            "Epoch 11/100\n",
            "16/16 [==============================] - 0s 1ms/step - loss: 679.6642\n",
            "Epoch 12/100\n",
            "16/16 [==============================] - 0s 1ms/step - loss: 686.8478\n",
            "Epoch 13/100\n",
            "16/16 [==============================] - 0s 1ms/step - loss: 665.9389\n",
            "Epoch 14/100\n",
            "16/16 [==============================] - 0s 1ms/step - loss: 671.2170\n",
            "Epoch 15/100\n",
            "16/16 [==============================] - 0s 960us/step - loss: 669.6737\n",
            "Epoch 16/100\n",
            "16/16 [==============================] - 0s 952us/step - loss: 654.2266\n",
            "Epoch 17/100\n",
            "16/16 [==============================] - 0s 961us/step - loss: 653.2183\n",
            "Epoch 18/100\n",
            "16/16 [==============================] - 0s 1ms/step - loss: 649.4456\n",
            "Epoch 19/100\n",
            "16/16 [==============================] - 0s 920us/step - loss: 656.4701\n",
            "Epoch 20/100\n",
            "16/16 [==============================] - 0s 987us/step - loss: 643.7205\n",
            "Epoch 21/100\n",
            "16/16 [==============================] - 0s 1ms/step - loss: 659.2708\n",
            "Epoch 22/100\n",
            "16/16 [==============================] - 0s 1ms/step - loss: 659.7947\n",
            "Epoch 23/100\n",
            "16/16 [==============================] - 0s 1ms/step - loss: 661.4611\n",
            "Epoch 24/100\n",
            "16/16 [==============================] - 0s 1ms/step - loss: 639.1949\n",
            "Epoch 25/100\n",
            "16/16 [==============================] - 0s 1ms/step - loss: 653.2511\n",
            "Epoch 26/100\n",
            "16/16 [==============================] - 0s 1ms/step - loss: 673.1525\n",
            "Epoch 27/100\n",
            "16/16 [==============================] - 0s 912us/step - loss: 645.7874\n",
            "Epoch 28/100\n",
            "16/16 [==============================] - 0s 897us/step - loss: 647.7442\n",
            "Epoch 29/100\n",
            "16/16 [==============================] - 0s 960us/step - loss: 640.6395\n",
            "Epoch 30/100\n",
            "16/16 [==============================] - 0s 1ms/step - loss: 658.2167\n",
            "Epoch 31/100\n",
            "16/16 [==============================] - 0s 1ms/step - loss: 631.8729\n",
            "Epoch 32/100\n",
            "16/16 [==============================] - 0s 1ms/step - loss: 630.2745\n",
            "Epoch 33/100\n",
            "16/16 [==============================] - 0s 1ms/step - loss: 637.3461\n",
            "Epoch 34/100\n",
            "16/16 [==============================] - 0s 1ms/step - loss: 635.3094\n",
            "Epoch 35/100\n",
            "16/16 [==============================] - 0s 1ms/step - loss: 676.8745\n",
            "Epoch 36/100\n",
            "16/16 [==============================] - 0s 1ms/step - loss: 664.4876\n",
            "Epoch 37/100\n",
            "16/16 [==============================] - 0s 1ms/step - loss: 628.9429\n",
            "Epoch 38/100\n",
            "16/16 [==============================] - 0s 1ms/step - loss: 630.1745\n",
            "Epoch 39/100\n",
            "16/16 [==============================] - 0s 969us/step - loss: 630.6266\n",
            "Epoch 40/100\n",
            "16/16 [==============================] - 0s 1ms/step - loss: 759.8542\n",
            "Epoch 41/100\n",
            "16/16 [==============================] - 0s 1ms/step - loss: 737.0443\n",
            "Epoch 42/100\n",
            "16/16 [==============================] - 0s 1ms/step - loss: 694.3924\n",
            "Epoch 43/100\n",
            "16/16 [==============================] - 0s 1ms/step - loss: 642.5966\n",
            "Epoch 44/100\n",
            "16/16 [==============================] - 0s 1ms/step - loss: 639.3749\n",
            "Epoch 45/100\n",
            "16/16 [==============================] - 0s 992us/step - loss: 636.1071\n",
            "Epoch 46/100\n",
            "16/16 [==============================] - 0s 1ms/step - loss: 630.7171\n",
            "Epoch 47/100\n",
            "16/16 [==============================] - 0s 966us/step - loss: 635.8734\n",
            "Epoch 48/100\n",
            "16/16 [==============================] - 0s 1ms/step - loss: 695.5172\n",
            "Epoch 49/100\n",
            "16/16 [==============================] - 0s 1ms/step - loss: 715.4359\n",
            "Epoch 50/100\n",
            "16/16 [==============================] - 0s 1ms/step - loss: 668.9354\n",
            "Epoch 51/100\n",
            "16/16 [==============================] - 0s 1ms/step - loss: 630.4377\n",
            "Epoch 52/100\n",
            "16/16 [==============================] - 0s 1ms/step - loss: 628.7752\n",
            "Epoch 53/100\n",
            "16/16 [==============================] - 0s 1ms/step - loss: 644.2297\n",
            "Epoch 54/100\n",
            "16/16 [==============================] - 0s 1ms/step - loss: 636.2784\n",
            "Epoch 55/100\n",
            "16/16 [==============================] - 0s 1ms/step - loss: 674.1210\n",
            "Epoch 56/100\n",
            "16/16 [==============================] - 0s 1ms/step - loss: 636.3010\n",
            "Epoch 57/100\n",
            "16/16 [==============================] - 0s 1ms/step - loss: 649.7816\n",
            "Epoch 58/100\n",
            "16/16 [==============================] - 0s 1ms/step - loss: 629.4606\n",
            "Epoch 59/100\n",
            "16/16 [==============================] - 0s 1ms/step - loss: 661.2109\n",
            "Epoch 60/100\n",
            "16/16 [==============================] - 0s 1ms/step - loss: 646.4407\n",
            "Epoch 61/100\n",
            "16/16 [==============================] - 0s 1ms/step - loss: 631.6874\n",
            "Epoch 62/100\n",
            "16/16 [==============================] - 0s 1ms/step - loss: 645.9149\n",
            "Epoch 63/100\n",
            "16/16 [==============================] - 0s 1ms/step - loss: 636.7103\n",
            "Epoch 64/100\n",
            "16/16 [==============================] - 0s 1ms/step - loss: 649.5529\n",
            "Epoch 65/100\n",
            "16/16 [==============================] - 0s 1ms/step - loss: 630.9033\n",
            "Epoch 66/100\n",
            "16/16 [==============================] - 0s 1ms/step - loss: 662.0710\n",
            "Epoch 67/100\n",
            "16/16 [==============================] - 0s 1ms/step - loss: 659.2546\n",
            "Epoch 68/100\n",
            "16/16 [==============================] - 0s 1ms/step - loss: 667.7455\n",
            "Epoch 69/100\n",
            "16/16 [==============================] - 0s 1ms/step - loss: 660.5806\n",
            "Epoch 70/100\n",
            "16/16 [==============================] - 0s 1ms/step - loss: 746.7614\n",
            "Epoch 71/100\n",
            "16/16 [==============================] - 0s 1ms/step - loss: 673.9413\n",
            "Epoch 72/100\n",
            "16/16 [==============================] - 0s 1ms/step - loss: 694.2842\n",
            "Epoch 73/100\n",
            "16/16 [==============================] - 0s 1ms/step - loss: 675.7666\n",
            "Epoch 74/100\n",
            "16/16 [==============================] - 0s 1ms/step - loss: 639.7135\n",
            "Epoch 75/100\n",
            "16/16 [==============================] - 0s 1ms/step - loss: 723.5533\n",
            "Epoch 76/100\n",
            "16/16 [==============================] - 0s 954us/step - loss: 689.3139\n",
            "Epoch 77/100\n",
            "16/16 [==============================] - 0s 1ms/step - loss: 688.1407\n",
            "Epoch 78/100\n",
            "16/16 [==============================] - 0s 1ms/step - loss: 671.6588\n",
            "Epoch 79/100\n",
            "16/16 [==============================] - 0s 1ms/step - loss: 632.9532\n",
            "Epoch 80/100\n",
            "16/16 [==============================] - 0s 1ms/step - loss: 651.1258\n",
            "Epoch 81/100\n",
            "16/16 [==============================] - 0s 1ms/step - loss: 658.8924\n",
            "Epoch 82/100\n",
            "16/16 [==============================] - 0s 1ms/step - loss: 679.7025\n",
            "Epoch 83/100\n",
            "16/16 [==============================] - 0s 1ms/step - loss: 650.4828\n",
            "Epoch 84/100\n",
            "16/16 [==============================] - 0s 1ms/step - loss: 673.1828\n",
            "Epoch 85/100\n",
            "16/16 [==============================] - 0s 1ms/step - loss: 676.6720\n",
            "Epoch 86/100\n",
            "16/16 [==============================] - 0s 989us/step - loss: 674.3936\n",
            "Epoch 87/100\n",
            "16/16 [==============================] - 0s 1ms/step - loss: 695.4399\n",
            "Epoch 88/100\n",
            "16/16 [==============================] - 0s 1ms/step - loss: 628.6420\n",
            "Epoch 89/100\n",
            "16/16 [==============================] - 0s 1ms/step - loss: 667.2639\n",
            "Epoch 90/100\n",
            "16/16 [==============================] - 0s 1ms/step - loss: 718.5492\n",
            "Epoch 91/100\n",
            "16/16 [==============================] - 0s 998us/step - loss: 637.3453\n",
            "Epoch 92/100\n",
            "16/16 [==============================] - 0s 1ms/step - loss: 672.8715\n",
            "Epoch 93/100\n",
            "16/16 [==============================] - 0s 1ms/step - loss: 646.5183\n",
            "Epoch 94/100\n",
            "16/16 [==============================] - 0s 991us/step - loss: 657.5137\n",
            "Epoch 95/100\n",
            "16/16 [==============================] - 0s 1ms/step - loss: 713.7167\n",
            "Epoch 96/100\n",
            "16/16 [==============================] - 0s 954us/step - loss: 661.5526\n",
            "Epoch 97/100\n",
            "16/16 [==============================] - 0s 1ms/step - loss: 719.5154\n",
            "Epoch 98/100\n",
            "16/16 [==============================] - 0s 1ms/step - loss: 769.7430\n",
            "Epoch 99/100\n",
            "16/16 [==============================] - 0s 1ms/step - loss: 742.0873\n",
            "Epoch 100/100\n",
            "16/16 [==============================] - 0s 1ms/step - loss: 693.0104\n"
          ],
          "name": "stdout"
        }
      ]
    },
    {
      "cell_type": "code",
      "metadata": {
        "id": "1j7oe6W4WDtJ",
        "outputId": "fea60b7d-1656-4440-f928-a4fe93d6a71c",
        "colab": {
          "base_uri": "https://localhost:8080/",
          "height": 34
        }
      },
      "source": [
        "epochs_hist.history.keys()"
      ],
      "execution_count": null,
      "outputs": [
        {
          "output_type": "execute_result",
          "data": {
            "text/plain": [
              "dict_keys(['loss'])"
            ]
          },
          "metadata": {
            "tags": []
          },
          "execution_count": 44
        }
      ]
    },
    {
      "cell_type": "code",
      "metadata": {
        "id": "kk8N5JewWTyw",
        "outputId": "b429a957-b96f-4e97-9be4-fa0bbbd15c1e",
        "colab": {
          "base_uri": "https://localhost:8080/",
          "height": 295
        }
      },
      "source": [
        "plt.plot(epochs_hist.history['loss'])\n",
        "plt.title('Model Loss Progress During Training')\n",
        "plt.xlabel('Epoch')\n",
        "plt.ylabel('Training Loss')\n",
        "plt.legend(['Training Loss']);"
      ],
      "execution_count": null,
      "outputs": [
        {
          "output_type": "display_data",
          "data": {
            "image/png": "[encoded data removed]",
            "text/plain": [
              "<Figure size 432x288 with 1 Axes>"
            ]
          },
          "metadata": {
            "tags": [],
            "needs_background": "light"
          }
        }
      ]
    },
    {
      "cell_type": "code",
      "metadata": {
        "id": "bB_P7H5vXnEr",
        "outputId": "273fc8c4-2c68-4b33-ea8f-b7378ce61146",
        "colab": {
          "base_uri": "https://localhost:8080/",
          "height": 306
        }
      },
      "source": [
        "model.get_weights()"
      ],
      "execution_count": null,
      "outputs": [
        {
          "output_type": "execute_result",
          "data": {
            "text/plain": [
              "[array([[ 1.8692087 ,  0.95040286,  1.9785155 ,  1.7232246 , -0.5576683 ,\n",
              "         -1.6408222 , -0.9372475 ,  1.2922213 , -1.9899322 ,  0.4269185 ]],\n",
              "       dtype=float32),\n",
              " array([ 3.2170568,  2.8253243,  3.3792977,  3.1525161, -2.2409747,\n",
              "        -3.2622004, -2.4111817,  2.6800685, -3.3759744,  1.7970499],\n",
              "       dtype=float32),\n",
              " array([[ 2.2096336 ],\n",
              "        [ 0.9663053 ],\n",
              "        [ 1.7617172 ],\n",
              "        [ 2.227263  ],\n",
              "        [-0.57131565],\n",
              "        [-1.5415162 ],\n",
              "        [-1.1189604 ],\n",
              "        [ 1.3224807 ],\n",
              "        [-1.6217506 ],\n",
              "        [ 0.4673737 ]], dtype=float32),\n",
              " array([2.7976563], dtype=float32)]"
            ]
          },
          "metadata": {
            "tags": []
          },
          "execution_count": 49
        }
      ]
    },
    {
      "cell_type": "code",
      "metadata": {
        "id": "0eAgjEqLXuyh",
        "outputId": "a39e61eb-aea8-47e1-cd15-cd5b4afb477f",
        "colab": {
          "base_uri": "https://localhost:8080/",
          "height": 34
        }
      },
      "source": [
        "temp = 5\n",
        "revenue = model.predict([temp])\n",
        "print('Revenue Predictions Using Trained ANN =', revenue)"
      ],
      "execution_count": null,
      "outputs": [
        {
          "output_type": "stream",
          "text": [
            "Revenue Predictions Using Trained ANN = [[151.50066]]\n"
          ],
          "name": "stdout"
        }
      ]
    },
    {
      "cell_type": "code",
      "metadata": {
        "id": "cjCEgaVqYc1A",
        "outputId": "0448495b-a35f-4b48-8da1-2895a5df09f3",
        "colab": {
          "base_uri": "https://localhost:8080/",
          "height": 295
        }
      },
      "source": [
        "plt.plot(x_train, y_train, color = 'gray')\n",
        "plt.plot(x_train, model.predict(x_train), color = 'red')\n",
        "plt.xlabel('Revenue [dollars]')\n",
        "plt.ylabel('Temperature [degC]')\n",
        "plt.title('Revenue Generated vs. Temperature @Ice Cream Stand');"
      ],
      "execution_count": null,
      "outputs": [
        {
          "output_type": "display_data",
          "data": {
            "image/png": "[encoded data removed]",
            "text/plain": [
              "<Figure size 432x288 with 1 Axes>"
            ]
          },
          "metadata": {
            "tags": [],
            "needs_background": "light"
          }
        }
      ]
    },
    {
      "cell_type": "markdown",
      "metadata": {
        "id": "Qj0hIxZeRlXE"
      },
      "source": [
        ""
      ]
    }
  ]
}